{
 "cells": [
  {
   "cell_type": "code",
   "execution_count": null,
   "metadata": {},
   "outputs": [],
   "source": [
    "import requests\n",
    "import bs4"
   ]
  },
  {
   "cell_type": "code",
   "execution_count": null,
   "metadata": {},
   "outputs": [],
   "source": [
    "request_url = 'https://en.wikipedia.org/w/index.php?title=Special:Search&limit={}&offset={}&profile=default&search=cipher&ns0=1'"
   ]
  },
  {
   "cell_type": "code",
   "execution_count": null,
   "metadata": {},
   "outputs": [],
   "source": [
    "headers = {\n",
    "    'User-Agent': 'Mozilla/5.0 (Windows NT 10.0; Win64; x64; rv:98.0) Gecko/20100101 Firefox/98.0',\n",
    "    'Accept': 'text/html,application/xhtml+xml,application/xml;q=0.9,image/avif,image/webp,*/*;q=0.8',\n",
    "    'Accept-Language': 'en-US,en;q=0.5',\n",
    "    'Accept-Encoding': 'https://en.wikipedia.org/w/index.php?title=Special:Search&limit=100&offset=0&profile=default&search=cipher&ns0=1',\n",
    "    'Referer': 'https://en.wikipedia.org/w/index.php?title=Special:Search&limit=100&offset=20&profile=default&search=cipher&ns0=1'\n",
    "}"
   ]
  },
  {
   "cell_type": "code",
   "execution_count": null,
   "metadata": {},
   "outputs": [],
   "source": [
    "rq = requests.get(request_url.format('20','0'),headers=headers)"
   ]
  },
  {
   "cell_type": "code",
   "execution_count": null,
   "metadata": {},
   "outputs": [],
   "source": [
    "soup = bs4.BeautifulSoup(rq.text,\"lxml\")"
   ]
  },
  {
   "cell_type": "code",
   "execution_count": null,
   "metadata": {},
   "outputs": [],
   "source": [
    "soup_selected = soup.select('.mw-search-result-heading a')"
   ]
  },
  {
   "cell_type": "code",
   "execution_count": null,
   "metadata": {},
   "outputs": [],
   "source": [
    "len(soup_selected)"
   ]
  },
  {
   "cell_type": "code",
   "execution_count": null,
   "metadata": {},
   "outputs": [],
   "source": [
    "soup_selected[0]['href']"
   ]
  },
  {
   "cell_type": "code",
   "execution_count": null,
   "metadata": {},
   "outputs": [],
   "source": [
    "new_req_url = 'https://en.wikipedia.org/w/index.php?title=Special:Search&limit=100&offset={}&profile=default&search=cipher&ns0=1'\n",
    "\n",
    "wiki_ciphers_links = []\n",
    "\n",
    "for offset in range(0,100,20):\n",
    "    new_rq = requests.get(new_req_url.format(offset),headers=headers)\n",
    "    soupify = bs4.BeautifulSoup(new_rq.text,\"lxml\")\n",
    "    selected_class = soupify.select('.mw-search-result-heading a')\n",
    "    \n",
    "    for a_link in selected_class:\n",
    "        wiki_ciphers_links.append(a_link['href'])"
   ]
  },
  {
   "cell_type": "code",
   "execution_count": null,
   "metadata": {},
   "outputs": [],
   "source": [
    "wiki_ciphers_links[0]"
   ]
  },
  {
   "cell_type": "code",
   "execution_count": null,
   "metadata": {},
   "outputs": [],
   "source": [
    "output_file = open('cipher_links.txt',mode='w+')\n",
    "for i in range(len(wiki_ciphers_links)):\n",
    "    output_file.write('https://en.wikipedia.org'+wiki_ciphers_links[i]+'\\n')\n",
    "output_file.close()"
   ]
  },
  {
   "cell_type": "code",
   "execution_count": null,
   "metadata": {},
   "outputs": [],
   "source": [
    "read_file = open('cipher_links.txt',mode='r')\n",
    "items = read_file.read()\n",
    "# for file in read_file:\n",
    "#     print(f'{file}')\n",
    "print(items)"
   ]
  },
  {
   "cell_type": "code",
   "execution_count": null,
   "metadata": {},
   "outputs": [],
   "source": [
    "len(items)"
   ]
  }
 ],
 "metadata": {
  "kernelspec": {
   "display_name": "Python 3",
   "language": "python",
   "name": "python3"
  },
  "language_info": {
   "codemirror_mode": {
    "name": "ipython",
    "version": 3
   },
   "file_extension": ".py",
   "mimetype": "text/x-python",
   "name": "python",
   "nbconvert_exporter": "python",
   "pygments_lexer": "ipython3",
   "version": "3.7.4"
  }
 },
 "nbformat": 4,
 "nbformat_minor": 2
}
